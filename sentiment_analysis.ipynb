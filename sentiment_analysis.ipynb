{
 "metadata": {
  "name": "",
  "signature": "sha256:930b0482a45eaec65ef3ad8c82f9d5024b58b0a6885ca2b79a8fce44d4fafa4c"
 },
 "nbformat": 3,
 "nbformat_minor": 0,
 "worksheets": [
  {
   "cells": [
    {
     "cell_type": "code",
     "collapsed": false,
     "input": [
      "#movie reviews analysis-sentiment analysis(Natural Language Processing- NLP)\n",
      "#multi-class classification  with scikit-learn and pandas"
     ],
     "language": "python",
     "metadata": {},
     "outputs": [],
     "prompt_number": 2
    },
    {
     "cell_type": "code",
     "collapsed": false,
     "input": [
      "import pandas as pd\n",
      "\n",
      "from sklearn.feature_extraction.text import TfidfVectorizer\n",
      "from sklearn.linear_model.logistic import LogisticRegression\n",
      "from sklearn.cross_validation import train_test_split\n",
      "from sklearn.metrics.metrics import classification_report, accuracy_score, confusion_matrix\n",
      "from sklearn.pipeline import Pipeline\n",
      "from sklearn.grid_search import GridSearchCV\n",
      "\n",
      "from IPython.display import Image"
     ],
     "language": "python",
     "metadata": {},
     "outputs": [],
     "prompt_number": 4
    },
    {
     "cell_type": "code",
     "collapsed": false,
     "input": [
      "df = pd.read_csv('train.tsv', header=0, delimiter='\\t')"
     ],
     "language": "python",
     "metadata": {},
     "outputs": [],
     "prompt_number": 11
    },
    {
     "cell_type": "code",
     "collapsed": false,
     "input": [
      "print df.count()"
     ],
     "language": "python",
     "metadata": {},
     "outputs": [
      {
       "metadata": {},
       "output_type": "pyout",
       "prompt_number": 5,
       "text": [
        "PhraseId      156060\n",
        "SentenceId    156060\n",
        "Phrase        156060\n",
        "Sentiment     156060\n",
        "dtype: int64"
       ]
      }
     ],
     "prompt_number": 5
    },
    {
     "cell_type": "code",
     "collapsed": false,
     "input": [
      "print df.head()"
     ],
     "language": "python",
     "metadata": {},
     "outputs": [
      {
       "output_type": "stream",
       "stream": "stdout",
       "text": [
        "   PhraseId  SentenceId                                             Phrase  \\\n",
        "0         1           1  A series of escapades demonstrating the adage ...   \n",
        "1         2           1  A series of escapades demonstrating the adage ...   \n",
        "2         3           1                                           A series   \n",
        "3         4           1                                                  A   \n",
        "4         5           1                                             series   \n",
        "\n",
        "   Sentiment  \n",
        "0          1  \n",
        "1          2  \n",
        "2          2  \n",
        "3          2  \n",
        "4          2  \n",
        "\n",
        "[5 rows x 4 columns]\n"
       ]
      }
     ],
     "prompt_number": 13
    },
    {
     "cell_type": "code",
     "collapsed": false,
     "input": [
      "#df.Sentiment contains response variables \n",
      "#here are the labels of the column\n",
      "\n",
      "# 0-> negative\n",
      "# 1-> somewhat negative\n",
      "# 2-> neutral\n",
      "# 3-> somewhat positive\n",
      "# 4-> positive\n",
      "\n",
      "#PhraseId  SentenceId  columns are not needed (used) in this dataset"
     ],
     "language": "python",
     "metadata": {},
     "outputs": []
    },
    {
     "cell_type": "code",
     "collapsed": false,
     "input": [
      "#print some of the phrases and analyze\n",
      "df['Phrase'].head(20)"
     ],
     "language": "python",
     "metadata": {},
     "outputs": [
      {
       "metadata": {},
       "output_type": "pyout",
       "prompt_number": 8,
       "text": [
        "0     A series of escapades demonstrating the adage ...\n",
        "1     A series of escapades demonstrating the adage ...\n",
        "2                                              A series\n",
        "3                                                     A\n",
        "4                                                series\n",
        "5     of escapades demonstrating the adage that what...\n",
        "6                                                    of\n",
        "7     escapades demonstrating the adage that what is...\n",
        "8                                             escapades\n",
        "9     demonstrating the adage that what is good for ...\n",
        "10                              demonstrating the adage\n",
        "11                                        demonstrating\n",
        "12                                            the adage\n",
        "13                                                  the\n",
        "14                                                adage\n",
        "15                      that what is good for the goose\n",
        "16                                                 that\n",
        "17                           what is good for the goose\n",
        "18                                                 what\n",
        "19                                is good for the goose\n",
        "Name: Phrase, dtype: object"
       ]
      }
     ],
     "prompt_number": 8
    },
    {
     "cell_type": "code",
     "collapsed": false,
     "input": [
      "#now examine the target classes\n",
      "df['Sentiment'].describe()"
     ],
     "language": "python",
     "metadata": {},
     "outputs": [
      {
       "metadata": {},
       "output_type": "pyout",
       "prompt_number": 9,
       "text": [
        "count    156060.000000\n",
        "mean          2.063578\n",
        "std           0.893832\n",
        "min           0.000000\n",
        "25%           2.000000\n",
        "50%           2.000000\n",
        "75%           3.000000\n",
        "max           4.000000\n",
        "Name: Sentiment, dtype: float64"
       ]
      }
     ],
     "prompt_number": 9
    },
    {
     "cell_type": "code",
     "collapsed": false,
     "input": [
      "#here distribution of the classes\n",
      "df['Sentiment'].value_counts()"
     ],
     "language": "python",
     "metadata": {},
     "outputs": [
      {
       "metadata": {},
       "output_type": "pyout",
       "prompt_number": 10,
       "text": [
        "2    79582\n",
        "3    32927\n",
        "1    27273\n",
        "4     9206\n",
        "0     7072\n",
        "dtype: int64"
       ]
      }
     ],
     "prompt_number": 10
    },
    {
     "cell_type": "code",
     "collapsed": false,
     "input": [
      "#get the frequencies of each label\n",
      "df['Sentiment'].value_counts() / df['Sentiment'].count()"
     ],
     "language": "python",
     "metadata": {},
     "outputs": [
      {
       "metadata": {},
       "output_type": "pyout",
       "prompt_number": 13,
       "text": [
        "2    0.509945\n",
        "3    0.210989\n",
        "1    0.174760\n",
        "4    0.058990\n",
        "0    0.045316\n",
        "dtype: float64"
       ]
      }
     ],
     "prompt_number": 13
    },
    {
     "cell_type": "code",
     "collapsed": false,
     "input": [
      "#train classifier with scikit-learn and tune the parameters with Grid Search\n",
      "#run the below line of code in the command window outside of ipython notebook"
     ],
     "language": "python",
     "metadata": {},
     "outputs": [],
     "prompt_number": 14
    },
    {
     "cell_type": "code",
     "collapsed": false,
     "input": [
      "\n",
      "# coding: utf-8\n",
      "\n",
      "# In[ ]:\n",
      "import pandas as pd\n",
      "\n",
      "from sklearn.feature_extraction.text import TfidfVectorizer\n",
      "from sklearn.linear_model.logistic import LogisticRegression\n",
      "from sklearn.cross_validation import train_test_split\n",
      "from sklearn.metrics.metrics import classification_report, accuracy_score, confusion_matrix\n",
      "from sklearn.pipeline import Pipeline\n",
      "from sklearn.grid_search import GridSearchCV\n",
      "\n",
      "\n",
      "\n",
      "def main():\n",
      "    pipeline = Pipeline([\n",
      "    ('vect', TfidfVectorizer(stop_words='english')),\n",
      "    ('clf', LogisticRegression())\n",
      "    ])\n",
      "    \n",
      "    parameters = {\n",
      "        'vect__max_df': (0.25, 0.5),\n",
      "        'vect__ngram_range': ((1, 1), (1, 2)),\n",
      "        'vect__use_idf': (True, False),\n",
      "        'clf__C': (0.1, 1, 10),\n",
      "    }\n",
      "    \n",
      "    df = pd.read_csv('train.tsv', header=0, delimiter='\\t')\n",
      "    \n",
      "    X, y = df['Phrase'], df['Sentiment'].as_matrix()\n",
      "    X_train, X_test, y_train, y_test = train_test_split(X, y, train_size=0.5)\n",
      "    \n",
      "    grid_search = GridSearchCV(pipeline, parameters, n_jobs=3, verbose=1, scoring='accuracy')\n",
      "    grid_search.fit(X_train, y_train)\n",
      "    print 'best score: %0.3f' % grid_search.best_score_\n",
      "    print 'best parameters set:'\n",
      "    best_parameters = grid_search.best_estimator_.get_params()\n",
      "    for param_name in sorted(parameters.keys()):\n",
      "        print '\\t %s: %r' % (param_name, best_parameters[param_name])\n",
      "        \n",
      "\n",
      "    predictions = grid_search.predict(X_test)\n",
      "    print 'Accuracy:', accuracy_score(y_test, predictions)\n",
      "    print 'Confusion Matrix:', confusion_matrix(y_test, predictions)\n",
      "    print 'Classification Report:', classification_report(y_test, predictions)\n",
      "\n",
      "\n",
      "# In[ ]:\n",
      "\n",
      "if __name__ == '__main__':\n",
      "    main()\n",
      "\n"
     ],
     "language": "python",
     "metadata": {},
     "outputs": [],
     "prompt_number": 24
    },
    {
     "cell_type": "code",
     "collapsed": false,
     "input": [
      "#get the evaluation metrics\n",
      "#here are the parameters and accuracy, precision and recall rates and confusion matrix after the below run running in the console\n",
      "#training might take some time depending on your pc\n",
      "Image(filename='parameters2.png')"
     ],
     "language": "python",
     "metadata": {},
     "outputs": [
      {
       "metadata": {},
       "output_type": "pyout",
       "png": "[encoded data removed]",
       "prompt_number": 9,
       "text": [
        "<IPython.core.display.Image at 0xa503930>"
       ]
      }
     ],
     "prompt_number": 9
    },
    {
     "cell_type": "code",
     "collapsed": false,
     "input": [],
     "language": "python",
     "metadata": {},
     "outputs": [],
     "prompt_number": 7
    }
   ],
   "metadata": {}
  }
 ]
}
