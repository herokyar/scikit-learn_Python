{
 "metadata": {
  "name": "",
  "signature": "sha256:d018eabe106843dd43e8b1a83928153749bd09b365b4c3497a83d5e996d569dd"
 },
 "nbformat": 3,
 "nbformat_minor": 0,
 "worksheets": [
  {
   "cells": [
    {
     "cell_type": "code",
     "collapsed": false,
     "input": [
      "#performing principal component analysis on iris dataset with 2 number of components\n",
      "\n",
      "#features are measurements of the length and width of the petals and sepals of the flowers\n",
      "#outcome ->  three species of Iris: Iris setosa, Iris virginica, and Iris versicolor"
     ],
     "language": "python",
     "metadata": {},
     "outputs": [],
     "prompt_number": 50
    },
    {
     "cell_type": "code",
     "collapsed": false,
     "input": [
      "import matplotlib.pyplot as plt\n",
      "from sklearn.decomposition import PCA\n",
      "from sklearn.datasets import load_iris"
     ],
     "language": "python",
     "metadata": {},
     "outputs": [],
     "prompt_number": 51
    },
    {
     "cell_type": "code",
     "collapsed": false,
     "input": [
      "#load your data from scikit-learn\n",
      "data = load_iris()"
     ],
     "language": "python",
     "metadata": {},
     "outputs": [],
     "prompt_number": 52
    },
    {
     "cell_type": "code",
     "collapsed": false,
     "input": [
      "#get the target labels\n",
      "y = data.target"
     ],
     "language": "python",
     "metadata": {},
     "outputs": [],
     "prompt_number": 53
    },
    {
     "cell_type": "code",
     "collapsed": false,
     "input": [
      "#get the features\n",
      "X = data.data"
     ],
     "language": "python",
     "metadata": {},
     "outputs": [],
     "prompt_number": 54
    },
    {
     "cell_type": "code",
     "collapsed": false,
     "input": [
      "#perform PCA with 2 components\n",
      "pca = PCA(n_components=2)"
     ],
     "language": "python",
     "metadata": {},
     "outputs": [],
     "prompt_number": 55
    },
    {
     "cell_type": "code",
     "collapsed": false,
     "input": [
      "#fit the model, get the reduced X matrix\n",
      "reduced_X = pca.fit_transform(X)\n"
     ],
     "language": "python",
     "metadata": {},
     "outputs": [],
     "prompt_number": 56
    },
    {
     "cell_type": "code",
     "collapsed": false,
     "input": [
      "#X matrix has been downsized to 2 components\n",
      "reduced_X[:10]"
     ],
     "language": "python",
     "metadata": {},
     "outputs": [
      {
       "metadata": {},
       "output_type": "pyout",
       "prompt_number": 64,
       "text": [
        "array([[-2.68420713, -0.32660731],\n",
        "       [-2.71539062,  0.16955685],\n",
        "       [-2.88981954,  0.13734561],\n",
        "       [-2.7464372 ,  0.31112432],\n",
        "       [-2.72859298, -0.33392456],\n",
        "       [-2.27989736, -0.74778271],\n",
        "       [-2.82089068,  0.08210451],\n",
        "       [-2.62648199, -0.17040535],\n",
        "       [-2.88795857,  0.57079803],\n",
        "       [-2.67384469,  0.1066917 ]])"
       ]
      }
     ],
     "prompt_number": 64
    },
    {
     "cell_type": "code",
     "collapsed": false,
     "input": [
      "#create empty lists for each features\n",
      "red_x, red_y = [], []\n",
      "blue_x, blue_y = [], []\n",
      "green_x, green_y = [], []"
     ],
     "language": "python",
     "metadata": {},
     "outputs": [],
     "prompt_number": 58
    },
    {
     "cell_type": "code",
     "collapsed": false,
     "input": [
      "#fill in the lists with the appropriate values\n",
      "\n",
      "for i in range(len(reduced_X)):\n",
      "    if y[i] == 0:\n",
      "        red_x.append(reduced_X[i][0])\n",
      "        red_y.append(reduced_X[i][1])\n",
      "    elif y[i] == 1:\n",
      "        blue_x.append(reduced_X[i][0])\n",
      "        blue_y.append(reduced_X[i][1])\n",
      "    else:\n",
      "        green_x.append(reduced_X[i][0])\n",
      "        green_y.append(reduced_X[i][1])"
     ],
     "language": "python",
     "metadata": {},
     "outputs": [],
     "prompt_number": 62
    },
    {
     "cell_type": "code",
     "collapsed": false,
     "input": [
      "#scatter plot the new features\n",
      "plt.scatter(red_x, red_y, c='r', marker='x')\n",
      "plt.scatter(blue_x, blue_y, c='b', marker='D')\n",
      "plt.scatter(green_x, green_y, c='g', marker='.')\n",
      "plt.title('the three species of Iris after PCA with 2 dimensions')\n",
      "plt.show()"
     ],
     "language": "python",
     "metadata": {},
     "outputs": [
      {
       "metadata": {},
       "output_type": "display_data",
       "png": "[encoded data removed]",
       "text": [
        "<matplotlib.figure.Figure at 0xe581b30>"
       ]
      }
     ],
     "prompt_number": 69
    },
    {
     "cell_type": "code",
     "collapsed": false,
     "input": [
      "#red cluster is easily separable from the other two, blue and black cluster is a little bit harder."
     ],
     "language": "python",
     "metadata": {},
     "outputs": [],
     "prompt_number": 63
    }
   ],
   "metadata": {}
  }
 ]
}
