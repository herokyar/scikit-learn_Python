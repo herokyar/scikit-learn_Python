{
 "metadata": {
  "name": "",
  "signature": "sha256:68d9a80b5e6250945418777b5ff1b4cc7469ca1d2a94b1ddf2b63f730f055db2"
 },
 "nbformat": 3,
 "nbformat_minor": 0,
 "worksheets": [
  {
   "cells": [
    {
     "cell_type": "heading",
     "level": 1,
     "metadata": {},
     "source": [
      "#SMS filtering scikit-learn (filter SMS messages either 'spam' or 'ham')"
     ]
    },
    {
     "cell_type": "code",
     "collapsed": false,
     "input": [
      "#load libraries\n",
      "import pandas as pd  \n",
      "import numpy as np\n",
      "from sklearn.feature_extraction.text import TfidfVectorizer\n",
      "from sklearn.linear_model.logistic import LogisticRegression\n",
      "from sklearn.cross_validation import train_test_split, cross_val_score\n"
     ],
     "language": "python",
     "metadata": {},
     "outputs": [],
     "prompt_number": 1
    },
    {
     "cell_type": "code",
     "collapsed": false,
     "input": [
      "#download the dataset at http://archive.ics.uci.edu/ml/datasets/SMS+Spam+Collection\n",
      "\n",
      "df = pd.read_csv('SMSSpamCollection', delimiter='\\t',  header=None) #load csv file into a pandas dataframe\n",
      "                "
     ],
     "language": "python",
     "metadata": {},
     "outputs": [],
     "prompt_number": 2
    },
    {
     "cell_type": "code",
     "collapsed": false,
     "input": [
      "#perform some basic exploratory data analysis"
     ],
     "language": "python",
     "metadata": {},
     "outputs": [],
     "prompt_number": 13
    },
    {
     "cell_type": "code",
     "collapsed": false,
     "input": [
      "df.describe() #this is a nice way to get a quick overview of the dataset"
     ],
     "language": "python",
     "metadata": {},
     "outputs": [
      {
       "html": [
        "<div style=\"max-height:1000px;max-width:1500px;overflow:auto;\">\n",
        "<table border=\"1\" class=\"dataframe\">\n",
        "  <thead>\n",
        "    <tr style=\"text-align: right;\">\n",
        "      <th></th>\n",
        "      <th>0</th>\n",
        "      <th>1</th>\n",
        "    </tr>\n",
        "  </thead>\n",
        "  <tbody>\n",
        "    <tr>\n",
        "      <th>count</th>\n",
        "      <td> 5572</td>\n",
        "      <td>                   5572</td>\n",
        "    </tr>\n",
        "    <tr>\n",
        "      <th>unique</th>\n",
        "      <td>    2</td>\n",
        "      <td>                   5169</td>\n",
        "    </tr>\n",
        "    <tr>\n",
        "      <th>top</th>\n",
        "      <td>  ham</td>\n",
        "      <td> Sorry, I'll call later</td>\n",
        "    </tr>\n",
        "    <tr>\n",
        "      <th>freq</th>\n",
        "      <td> 4825</td>\n",
        "      <td>                     30</td>\n",
        "    </tr>\n",
        "  </tbody>\n",
        "</table>\n",
        "<p>4 rows \u00d7 2 columns</p>\n",
        "</div>"
       ],
       "metadata": {},
       "output_type": "pyout",
       "prompt_number": 14,
       "text": [
        "           0                       1\n",
        "count   5572                    5572\n",
        "unique     2                    5169\n",
        "top      ham  Sorry, I'll call later\n",
        "freq    4825                      30\n",
        "\n",
        "[4 rows x 2 columns]"
       ]
      }
     ],
     "prompt_number": 14
    },
    {
     "cell_type": "code",
     "collapsed": false,
     "input": [
      "df.head(10) #see the first 10 examples from the dataframe"
     ],
     "language": "python",
     "metadata": {},
     "outputs": [
      {
       "html": [
        "<div style=\"max-height:1000px;max-width:1500px;overflow:auto;\">\n",
        "<table border=\"1\" class=\"dataframe\">\n",
        "  <thead>\n",
        "    <tr style=\"text-align: right;\">\n",
        "      <th></th>\n",
        "      <th>0</th>\n",
        "      <th>1</th>\n",
        "    </tr>\n",
        "  </thead>\n",
        "  <tbody>\n",
        "    <tr>\n",
        "      <th>0</th>\n",
        "      <td>  ham</td>\n",
        "      <td> Go until jurong point, crazy.. Available only ...</td>\n",
        "    </tr>\n",
        "    <tr>\n",
        "      <th>1</th>\n",
        "      <td>  ham</td>\n",
        "      <td>                     Ok lar... Joking wif u oni...</td>\n",
        "    </tr>\n",
        "    <tr>\n",
        "      <th>2</th>\n",
        "      <td> spam</td>\n",
        "      <td> Free entry in 2 a wkly comp to win FA Cup fina...</td>\n",
        "    </tr>\n",
        "    <tr>\n",
        "      <th>3</th>\n",
        "      <td>  ham</td>\n",
        "      <td> U dun say so early hor... U c already then say...</td>\n",
        "    </tr>\n",
        "    <tr>\n",
        "      <th>4</th>\n",
        "      <td>  ham</td>\n",
        "      <td> Nah I don't think he goes to usf, he lives aro...</td>\n",
        "    </tr>\n",
        "    <tr>\n",
        "      <th>5</th>\n",
        "      <td> spam</td>\n",
        "      <td> FreeMsg Hey there darling it's been 3 week's n...</td>\n",
        "    </tr>\n",
        "    <tr>\n",
        "      <th>6</th>\n",
        "      <td>  ham</td>\n",
        "      <td> Even my brother is not like to speak with me. ...</td>\n",
        "    </tr>\n",
        "    <tr>\n",
        "      <th>7</th>\n",
        "      <td>  ham</td>\n",
        "      <td> As per your request 'Melle Melle (Oru Minnamin...</td>\n",
        "    </tr>\n",
        "    <tr>\n",
        "      <th>8</th>\n",
        "      <td> spam</td>\n",
        "      <td> WINNER!! As a valued network customer you have...</td>\n",
        "    </tr>\n",
        "    <tr>\n",
        "      <th>9</th>\n",
        "      <td> spam</td>\n",
        "      <td> Had your mobile 11 months or more? U R entitle...</td>\n",
        "    </tr>\n",
        "  </tbody>\n",
        "</table>\n",
        "<p>10 rows \u00d7 2 columns</p>\n",
        "</div>"
       ],
       "metadata": {},
       "output_type": "pyout",
       "prompt_number": 3,
       "text": [
        "      0                                                  1\n",
        "0   ham  Go until jurong point, crazy.. Available only ...\n",
        "1   ham                      Ok lar... Joking wif u oni...\n",
        "2  spam  Free entry in 2 a wkly comp to win FA Cup fina...\n",
        "3   ham  U dun say so early hor... U c already then say...\n",
        "4   ham  Nah I don't think he goes to usf, he lives aro...\n",
        "5  spam  FreeMsg Hey there darling it's been 3 week's n...\n",
        "6   ham  Even my brother is not like to speak with me. ...\n",
        "7   ham  As per your request 'Melle Melle (Oru Minnamin...\n",
        "8  spam  WINNER!! As a valued network customer you have...\n",
        "9  spam  Had your mobile 11 months or more? U R entitle...\n",
        "\n",
        "[10 rows x 2 columns]"
       ]
      }
     ],
     "prompt_number": 3
    },
    {
     "cell_type": "code",
     "collapsed": false,
     "input": [
      "df.tail(10) #see the last 10 examples from the dataframe"
     ],
     "language": "python",
     "metadata": {},
     "outputs": [
      {
       "html": [
        "<div style=\"max-height:1000px;max-width:1500px;overflow:auto;\">\n",
        "<table border=\"1\" class=\"dataframe\">\n",
        "  <thead>\n",
        "    <tr style=\"text-align: right;\">\n",
        "      <th></th>\n",
        "      <th>0</th>\n",
        "      <th>1</th>\n",
        "    </tr>\n",
        "  </thead>\n",
        "  <tbody>\n",
        "    <tr>\n",
        "      <th>5562</th>\n",
        "      <td>  ham</td>\n",
        "      <td> Ok lor... Sony ericsson salesman... I ask shuh...</td>\n",
        "    </tr>\n",
        "    <tr>\n",
        "      <th>5563</th>\n",
        "      <td>  ham</td>\n",
        "      <td>                               Ard 6 like dat lor.</td>\n",
        "    </tr>\n",
        "    <tr>\n",
        "      <th>5564</th>\n",
        "      <td>  ham</td>\n",
        "      <td> Why don't you wait 'til at least wednesday to ...</td>\n",
        "    </tr>\n",
        "    <tr>\n",
        "      <th>5565</th>\n",
        "      <td>  ham</td>\n",
        "      <td>                                      Huh y lei...</td>\n",
        "    </tr>\n",
        "    <tr>\n",
        "      <th>5566</th>\n",
        "      <td> spam</td>\n",
        "      <td> REMINDER FROM O2: To get 2.50 pounds free call...</td>\n",
        "    </tr>\n",
        "    <tr>\n",
        "      <th>5567</th>\n",
        "      <td> spam</td>\n",
        "      <td> This is the 2nd time we have tried 2 contact u...</td>\n",
        "    </tr>\n",
        "    <tr>\n",
        "      <th>5568</th>\n",
        "      <td>  ham</td>\n",
        "      <td>              Will \u00fc b going to esplanade fr home?</td>\n",
        "    </tr>\n",
        "    <tr>\n",
        "      <th>5569</th>\n",
        "      <td>  ham</td>\n",
        "      <td> Pity, * was in mood for that. So...any other s...</td>\n",
        "    </tr>\n",
        "    <tr>\n",
        "      <th>5570</th>\n",
        "      <td>  ham</td>\n",
        "      <td> The guy did some bitching but I acted like i'd...</td>\n",
        "    </tr>\n",
        "    <tr>\n",
        "      <th>5571</th>\n",
        "      <td>  ham</td>\n",
        "      <td>                        Rofl. Its true to its name</td>\n",
        "    </tr>\n",
        "  </tbody>\n",
        "</table>\n",
        "<p>10 rows \u00d7 2 columns</p>\n",
        "</div>"
       ],
       "metadata": {},
       "output_type": "pyout",
       "prompt_number": 4,
       "text": [
        "         0                                                  1\n",
        "5562   ham  Ok lor... Sony ericsson salesman... I ask shuh...\n",
        "5563   ham                                Ard 6 like dat lor.\n",
        "5564   ham  Why don't you wait 'til at least wednesday to ...\n",
        "5565   ham                                       Huh y lei...\n",
        "5566  spam  REMINDER FROM O2: To get 2.50 pounds free call...\n",
        "5567  spam  This is the 2nd time we have tried 2 contact u...\n",
        "5568   ham               Will \u00fc b going to esplanade fr home?\n",
        "5569   ham  Pity, * was in mood for that. So...any other s...\n",
        "5570   ham  The guy did some bitching but I acted like i'd...\n",
        "5571   ham                         Rofl. Its true to its name\n",
        "\n",
        "[10 rows x 2 columns]"
       ]
      }
     ],
     "prompt_number": 4
    },
    {
     "cell_type": "code",
     "collapsed": false,
     "input": [
      "print 'there are %s messages in the dataframe' % len(df)"
     ],
     "language": "python",
     "metadata": {},
     "outputs": [
      {
       "output_type": "stream",
       "stream": "stdout",
       "text": [
        "there are 5572 messages in the dataframe\n"
       ]
      }
     ],
     "prompt_number": 5
    },
    {
     "cell_type": "code",
     "collapsed": false,
     "input": [
      "print 'Number of spam messages:', df[df[0] == 'spam'][0].count()"
     ],
     "language": "python",
     "metadata": {},
     "outputs": [
      {
       "output_type": "stream",
       "stream": "stdout",
       "text": [
        "Number of spam messages: 747\n"
       ]
      }
     ],
     "prompt_number": 6
    },
    {
     "cell_type": "code",
     "collapsed": false,
     "input": [
      "print 'Number of ham messages:', df[df[0] == 'ham'][0].count()"
     ],
     "language": "python",
     "metadata": {},
     "outputs": [
      {
       "output_type": "stream",
       "stream": "stdout",
       "text": [
        "Number of ham messages: 4825\n"
       ]
      }
     ],
     "prompt_number": 7
    },
    {
     "cell_type": "code",
     "collapsed": false,
     "input": [
      "X_train_raw, X_test_raw, y_train, y_test = train_test_split(df[1], df[0]) #divide your dataset into training and test set (each one is a numpy array)\n",
      "#by default scikit learn will assign %75 of your data to training set, and the remaining %25 for the test set"
     ],
     "language": "python",
     "metadata": {},
     "outputs": [],
     "prompt_number": 8
    },
    {
     "cell_type": "code",
     "collapsed": false,
     "input": [
      "#get some overview about the new training and test sets\n",
      "print 'first 5  training examples: ', X_train_raw[:5] , '\\n\\n' \n",
      "print 'first 5  test examples: ', X_test_raw[:5], '\\n\\n'\n",
      "print 'first 5  training labels: ', y_train[:5], '\\n\\n'\n",
      "print 'first 5  test labels: ', y_test[:5]"
     ],
     "language": "python",
     "metadata": {},
     "outputs": [
      {
       "output_type": "stream",
       "stream": "stdout",
       "text": [
        "first 5  training examples:  ['Hey come online! Use msn... We are all there'\n",
        " \"That's significant but dont worry.\"\n",
        " \"Alright, I'll head out in a few minutes, text me where to meet you\"\n",
        " 'Then she dun believe wat?'\n",
        " 'Sounds like there could be a lot of time spent in that chastity device boy ... *grins* ... Or take your beatings like a good dog. Going to lounge in a nice long bath now ?'] \n",
        "\n",
        "\n",
        "first 5  test examples:  ['Not yet chikku..wat abt u?'\n",
        " 'Camera - You are awarded a SiPix Digital Camera! call 09061221066 fromm landline. Delivery within 28 days'\n",
        " 'And do you have any one that can teach me how to ship cars.'\n",
        " \"I'll reach in ard 20 mins ok...\"\n",
        " 'Thk shld b can... Ya, i wana go 4 lessons... Haha, can go for one whole stretch...'] \n",
        "\n",
        "\n",
        "first 5  training labels:  ['ham' 'ham' 'ham' 'ham' 'ham'] \n",
        "\n",
        "\n",
        "first 5  test labels:  ['ham' 'spam' 'ham' 'ham' 'ham']\n"
       ]
      }
     ],
     "prompt_number": 9
    },
    {
     "cell_type": "code",
     "collapsed": false,
     "input": [
      "#create a TfidfVectorizer (this will transform training and test set so that we can train a LogisticRegression model)\n",
      "vectorizer = TfidfVectorizer()\n",
      "X_train = vectorizer.fit_transform(X_train_raw) #X_train is scipy.sparse.csr.csr_matrix\n",
      "X_test = vectorizer.transform(X_test_raw)"
     ],
     "language": "python",
     "metadata": {},
     "outputs": [],
     "prompt_number": 10
    },
    {
     "cell_type": "code",
     "collapsed": false,
     "input": [
      "#make prediction with scikit-learn LogisticRegression class\n",
      "#train the LogicticRegression classifier (binary classification in this case)\n",
      "classifier = LogisticRegression()\n",
      "classifier.fit(X_train, y_train) #fit the model\n",
      "predictions = classifier.predict(X_test) #make prediction on the test set -> predictions is a numpy array"
     ],
     "language": "python",
     "metadata": {},
     "outputs": [],
     "prompt_number": 11
    },
    {
     "cell_type": "code",
     "collapsed": false,
     "input": [
      "#get the first 10 predictions -> see if the SMS messages are correctly classified as 'ham' or 'spam'..\n",
      "for i, prediction in enumerate(predictions[:20]):\n",
      "    print 'prediction: %s. message: %s' % (prediction, X_test_raw[i])"
     ],
     "language": "python",
     "metadata": {},
     "outputs": [
      {
       "output_type": "stream",
       "stream": "stdout",
       "text": [
        "prediction: ham. message: Not yet chikku..wat abt u?\n",
        "prediction: spam. message: Camera - You are awarded a SiPix Digital Camera! call 09061221066 fromm landline. Delivery within 28 days\n",
        "prediction: ham. message: And do you have any one that can teach me how to ship cars.\n",
        "prediction: ham. message: I'll reach in ard 20 mins ok...\n",
        "prediction: ham. message: Thk shld b can... Ya, i wana go 4 lessons... Haha, can go for one whole stretch...\n",
        "prediction: ham. message: HEY BABE! FAR 2 SPUN-OUT 2 SPK AT DA MO... DEAD 2 DA WRLD. BEEN SLEEPING ON DA SOFA ALL DAY, HAD A COOL NYTHO, TX 4 FONIN HON, CALL 2MWEN IM BK FRMCLOUD 9! J X\n",
        "prediction: ham. message: Come to mahal bus stop.. &lt;DECIMAL&gt;\n",
        "prediction: ham. message: Now thats going to ruin your thesis!\n",
        "prediction: spam. message: URGENT! Your Mobile No. was awarded \u00a32000 Bonus Caller Prize on 5/9/03 This is our final try to contact U! Call from Landline 09064019788 BOX42WR29C, 150PPM\n",
        "prediction: ham. message: Ho ho - big belly laugh! See ya tomo\n",
        "prediction: ham. message: 7 at esplanade.. Do \u00fc mind giving me a lift cos i got no car today..\n",
        "prediction: ham. message: Super msg da:)nalla timing.\n",
        "prediction: ham. message: Guess who am I?This is the first time I created a web page WWW.ASJESUS.COM read all I wrote. I'm waiting for your opinions. I want to be your friend 1/1\n",
        "prediction: ham. message: I call you later, don't have network. If urgnt, sms me.\n",
        "prediction: ham. message: GRAN ONLYFOUND OUT AFEW DAYS AGO.CUSOON HONI\n",
        "prediction: ham. message: Yeah so basically any time next week you can get away from your mom &amp; get up before 3\n",
        "prediction: ham. message: Jus finish watching tv... U?\n",
        "prediction: ham. message: I.ll get there tomorrow and send it to you\n",
        "prediction: ham. message: Everybody had fun this evening. Miss you.\n",
        "prediction: ham. message: Yeah that's the impression I got\n"
       ]
      }
     ],
     "prompt_number": 12
    },
    {
     "cell_type": "code",
     "collapsed": false,
     "input": [],
     "language": "python",
     "metadata": {},
     "outputs": [],
     "prompt_number": 12
    }
   ],
   "metadata": {}
  }
 ]
}
