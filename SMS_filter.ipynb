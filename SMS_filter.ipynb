{
 "metadata": {
  "name": "",
  "signature": "sha256:8c74f8644eed5fb94660eb3879e7257482846acabba6c49d9630afda8037ad86"
 },
 "nbformat": 3,
 "nbformat_minor": 0,
 "worksheets": [
  {
   "cells": [
    {
     "cell_type": "heading",
     "level": 1,
     "metadata": {},
     "source": [
      "#SMS filtering scikit-learn (filter SMS messages either 'spam' or 'ham')"
     ]
    },
    {
     "cell_type": "code",
     "collapsed": false,
     "input": [
      "#load libraries\n",
      "import pandas as pd  \n",
      "import numpy as np\n",
      "from sklearn.feature_extraction.text import TfidfVectorizer\n",
      "from sklearn.linear_model.logistic import LogisticRegression\n",
      "from sklearn.cross_validation import train_test_split, cross_val_score\n",
      "\n",
      "from sklearn.metrics import confusion_matrix\n",
      "import matplotlib.pyplot as plt\n",
      "\n",
      "from sklearn.metrics import precision_score, recall_score, accuracy_score\n",
      "from sklearn.metrics import roc_curve, auc\n",
      "from sklearn.grid_search import GridSearchCV\n",
      "from sklearn.pipeline import Pipeline\n",
      "\n",
      "from IPython.display import Image"
     ],
     "language": "python",
     "metadata": {},
     "outputs": [],
     "prompt_number": 566
    },
    {
     "cell_type": "code",
     "collapsed": false,
     "input": [
      "#download the dataset at http://archive.ics.uci.edu/ml/datasets/SMS+Spam+Collection\n",
      "\n",
      "df = pd.read_csv('Sms.csv', delimiter=',', header=0) #load csv file into a pandas dataframe\n",
      "                "
     ],
     "language": "python",
     "metadata": {},
     "outputs": [],
     "prompt_number": 505
    },
    {
     "cell_type": "code",
     "collapsed": false,
     "input": [
      "#perform some basic exploratory data analysis"
     ],
     "language": "python",
     "metadata": {},
     "outputs": [],
     "prompt_number": 506
    },
    {
     "cell_type": "code",
     "collapsed": false,
     "input": [
      "df.describe() #this is a nice way to get a quick overview of the dataset"
     ],
     "language": "python",
     "metadata": {},
     "outputs": [
      {
       "html": [
        "<div style=\"max-height:1000px;max-width:1500px;overflow:auto;\">\n",
        "<table border=\"1\" class=\"dataframe\">\n",
        "  <thead>\n",
        "    <tr style=\"text-align: right;\">\n",
        "      <th></th>\n",
        "      <th>label</th>\n",
        "    </tr>\n",
        "  </thead>\n",
        "  <tbody>\n",
        "    <tr>\n",
        "      <th>count</th>\n",
        "      <td> 5574.000000</td>\n",
        "    </tr>\n",
        "    <tr>\n",
        "      <th>mean</th>\n",
        "      <td>    0.134015</td>\n",
        "    </tr>\n",
        "    <tr>\n",
        "      <th>std</th>\n",
        "      <td>    0.340699</td>\n",
        "    </tr>\n",
        "    <tr>\n",
        "      <th>min</th>\n",
        "      <td>    0.000000</td>\n",
        "    </tr>\n",
        "    <tr>\n",
        "      <th>25%</th>\n",
        "      <td>    0.000000</td>\n",
        "    </tr>\n",
        "    <tr>\n",
        "      <th>50%</th>\n",
        "      <td>    0.000000</td>\n",
        "    </tr>\n",
        "    <tr>\n",
        "      <th>75%</th>\n",
        "      <td>    0.000000</td>\n",
        "    </tr>\n",
        "    <tr>\n",
        "      <th>max</th>\n",
        "      <td>    1.000000</td>\n",
        "    </tr>\n",
        "  </tbody>\n",
        "</table>\n",
        "<p>8 rows \u00d7 1 columns</p>\n",
        "</div>"
       ],
       "metadata": {},
       "output_type": "pyout",
       "prompt_number": 507,
       "text": [
        "             label\n",
        "count  5574.000000\n",
        "mean      0.134015\n",
        "std       0.340699\n",
        "min       0.000000\n",
        "25%       0.000000\n",
        "50%       0.000000\n",
        "75%       0.000000\n",
        "max       1.000000\n",
        "\n",
        "[8 rows x 1 columns]"
       ]
      }
     ],
     "prompt_number": 507
    },
    {
     "cell_type": "code",
     "collapsed": false,
     "input": [
      "df.head(10) #see the first 10 examples from the dataframe"
     ],
     "language": "python",
     "metadata": {},
     "outputs": [
      {
       "html": [
        "<div style=\"max-height:1000px;max-width:1500px;overflow:auto;\">\n",
        "<table border=\"1\" class=\"dataframe\">\n",
        "  <thead>\n",
        "    <tr style=\"text-align: right;\">\n",
        "      <th></th>\n",
        "      <th>label</th>\n",
        "      <th>message</th>\n",
        "    </tr>\n",
        "  </thead>\n",
        "  <tbody>\n",
        "    <tr>\n",
        "      <th>0</th>\n",
        "      <td> 0</td>\n",
        "      <td> Go until jurong point, crazy.. Available only ...</td>\n",
        "    </tr>\n",
        "    <tr>\n",
        "      <th>1</th>\n",
        "      <td> 0</td>\n",
        "      <td>                     Ok lar... Joking wif u oni...</td>\n",
        "    </tr>\n",
        "    <tr>\n",
        "      <th>2</th>\n",
        "      <td> 1</td>\n",
        "      <td> Free entry in 2 a wkly comp to win FA Cup fina...</td>\n",
        "    </tr>\n",
        "    <tr>\n",
        "      <th>3</th>\n",
        "      <td> 0</td>\n",
        "      <td> U dun say so early hor... U c already then say...</td>\n",
        "    </tr>\n",
        "    <tr>\n",
        "      <th>4</th>\n",
        "      <td> 0</td>\n",
        "      <td> Nah I don't think he goes to usf, he lives aro...</td>\n",
        "    </tr>\n",
        "    <tr>\n",
        "      <th>5</th>\n",
        "      <td> 1</td>\n",
        "      <td> FreeMsg Hey there darling it's been 3 week's n...</td>\n",
        "    </tr>\n",
        "    <tr>\n",
        "      <th>6</th>\n",
        "      <td> 0</td>\n",
        "      <td> Even my brother is not like to speak with me. ...</td>\n",
        "    </tr>\n",
        "    <tr>\n",
        "      <th>7</th>\n",
        "      <td> 0</td>\n",
        "      <td> As per your request 'Melle Melle (Oru Minnamin...</td>\n",
        "    </tr>\n",
        "    <tr>\n",
        "      <th>8</th>\n",
        "      <td> 1</td>\n",
        "      <td> WINNER!! As a valued network customer you have...</td>\n",
        "    </tr>\n",
        "    <tr>\n",
        "      <th>9</th>\n",
        "      <td> 1</td>\n",
        "      <td> Had your mobile 11 months or more? U R entitle...</td>\n",
        "    </tr>\n",
        "  </tbody>\n",
        "</table>\n",
        "<p>10 rows \u00d7 2 columns</p>\n",
        "</div>"
       ],
       "metadata": {},
       "output_type": "pyout",
       "prompt_number": 508,
       "text": [
        "   label                                            message\n",
        "0      0  Go until jurong point, crazy.. Available only ...\n",
        "1      0                      Ok lar... Joking wif u oni...\n",
        "2      1  Free entry in 2 a wkly comp to win FA Cup fina...\n",
        "3      0  U dun say so early hor... U c already then say...\n",
        "4      0  Nah I don't think he goes to usf, he lives aro...\n",
        "5      1  FreeMsg Hey there darling it's been 3 week's n...\n",
        "6      0  Even my brother is not like to speak with me. ...\n",
        "7      0  As per your request 'Melle Melle (Oru Minnamin...\n",
        "8      1  WINNER!! As a valued network customer you have...\n",
        "9      1  Had your mobile 11 months or more? U R entitle...\n",
        "\n",
        "[10 rows x 2 columns]"
       ]
      }
     ],
     "prompt_number": 508
    },
    {
     "cell_type": "code",
     "collapsed": false,
     "input": [
      "df.tail(10) #see the last 10 examples from the dataframe"
     ],
     "language": "python",
     "metadata": {},
     "outputs": [
      {
       "html": [
        "<div style=\"max-height:1000px;max-width:1500px;overflow:auto;\">\n",
        "<table border=\"1\" class=\"dataframe\">\n",
        "  <thead>\n",
        "    <tr style=\"text-align: right;\">\n",
        "      <th></th>\n",
        "      <th>label</th>\n",
        "      <th>message</th>\n",
        "    </tr>\n",
        "  </thead>\n",
        "  <tbody>\n",
        "    <tr>\n",
        "      <th>5564</th>\n",
        "      <td> 0</td>\n",
        "      <td> Ok lor... Sony ericsson salesman... I ask shuh...</td>\n",
        "    </tr>\n",
        "    <tr>\n",
        "      <th>5565</th>\n",
        "      <td> 0</td>\n",
        "      <td>                               Ard 6 like dat lor.</td>\n",
        "    </tr>\n",
        "    <tr>\n",
        "      <th>5566</th>\n",
        "      <td> 0</td>\n",
        "      <td> Why don't you wait 'til at least wednesday to ...</td>\n",
        "    </tr>\n",
        "    <tr>\n",
        "      <th>5567</th>\n",
        "      <td> 0</td>\n",
        "      <td>                                      Huh y lei...</td>\n",
        "    </tr>\n",
        "    <tr>\n",
        "      <th>5568</th>\n",
        "      <td> 1</td>\n",
        "      <td> REMINDER FROM O2: To get 2.50 pounds free call...</td>\n",
        "    </tr>\n",
        "    <tr>\n",
        "      <th>5569</th>\n",
        "      <td> 1</td>\n",
        "      <td> This is the 2nd time we have tried 2 contact u...</td>\n",
        "    </tr>\n",
        "    <tr>\n",
        "      <th>5570</th>\n",
        "      <td> 0</td>\n",
        "      <td>              Will \u00fc b going to esplanade fr home?</td>\n",
        "    </tr>\n",
        "    <tr>\n",
        "      <th>5571</th>\n",
        "      <td> 0</td>\n",
        "      <td> Pity, * was in mood for that. So...any other s...</td>\n",
        "    </tr>\n",
        "    <tr>\n",
        "      <th>5572</th>\n",
        "      <td> 0</td>\n",
        "      <td> The guy did some bitching but I acted like i'd...</td>\n",
        "    </tr>\n",
        "    <tr>\n",
        "      <th>5573</th>\n",
        "      <td> 0</td>\n",
        "      <td>                        Rofl. Its true to its name</td>\n",
        "    </tr>\n",
        "  </tbody>\n",
        "</table>\n",
        "<p>10 rows \u00d7 2 columns</p>\n",
        "</div>"
       ],
       "metadata": {},
       "output_type": "pyout",
       "prompt_number": 509,
       "text": [
        "      label                                            message\n",
        "5564      0  Ok lor... Sony ericsson salesman... I ask shuh...\n",
        "5565      0                                Ard 6 like dat lor.\n",
        "5566      0  Why don't you wait 'til at least wednesday to ...\n",
        "5567      0                                       Huh y lei...\n",
        "5568      1  REMINDER FROM O2: To get 2.50 pounds free call...\n",
        "5569      1  This is the 2nd time we have tried 2 contact u...\n",
        "5570      0               Will \u00fc b going to esplanade fr home?\n",
        "5571      0  Pity, * was in mood for that. So...any other s...\n",
        "5572      0  The guy did some bitching but I acted like i'd...\n",
        "5573      0                         Rofl. Its true to its name\n",
        "\n",
        "[10 rows x 2 columns]"
       ]
      }
     ],
     "prompt_number": 509
    },
    {
     "cell_type": "code",
     "collapsed": false,
     "input": [
      "print 'there are %s messages in the dataframe' % len(df)"
     ],
     "language": "python",
     "metadata": {},
     "outputs": [
      {
       "output_type": "stream",
       "stream": "stdout",
       "text": [
        "there are 5574 messages in the dataframe\n"
       ]
      }
     ],
     "prompt_number": 510
    },
    {
     "cell_type": "code",
     "collapsed": false,
     "input": [
      "print 'Number of spam messages:', df[df['label'] == 1]['label'].count()"
     ],
     "language": "python",
     "metadata": {},
     "outputs": [
      {
       "output_type": "stream",
       "stream": "stdout",
       "text": [
        "Number of spam messages: 747\n"
       ]
      }
     ],
     "prompt_number": 511
    },
    {
     "cell_type": "code",
     "collapsed": false,
     "input": [
      "print 'Number of ham messages:', df[df['label'] == 0]['label'].count()"
     ],
     "language": "python",
     "metadata": {},
     "outputs": [
      {
       "output_type": "stream",
       "stream": "stdout",
       "text": [
        "Number of ham messages: 4827\n"
       ]
      }
     ],
     "prompt_number": 512
    },
    {
     "cell_type": "code",
     "collapsed": false,
     "input": [
      "X_train_raw, X_test_raw, y_train, y_test = train_test_split(df['message'], df['label']) #divide your dataset into training and test set (each one is a numpy array)\n",
      "#by default scikit learn will assign %75 of your data to training set, and the remaining %25 for the test set"
     ],
     "language": "python",
     "metadata": {},
     "outputs": [],
     "prompt_number": 513
    },
    {
     "cell_type": "code",
     "collapsed": false,
     "input": [
      "#get some overview about the new training and test sets\n",
      "print 'first 5  training examples: ', X_train_raw[:5] , '\\n\\n' \n",
      "print 'first 5  test examples: ', X_test_raw[:5], '\\n\\n'\n",
      "print 'first 5  training labels: ', y_train[:5], '\\n\\n'\n",
      "print 'first 5  test labels: ', y_test[:5]"
     ],
     "language": "python",
     "metadata": {},
     "outputs": [
      {
       "output_type": "stream",
       "stream": "stdout",
       "text": [
        "first 5  training examples:  [ 'I know you are thinkin malaria. But relax, children cant handle malaria. She would have been worse and its gastroenteritis. If she takes enough to replace her loss her temp will reduce. And if you give her malaria meds now she will just vomit. Its a self limiting illness she has which means in a few days it will completely stop'\n",
        " 'Yup having my lunch buffet now.. U eat already?'\n",
        " \"Any chance you might have had with me evaporated as soon as you violated my privacy by stealing my phone number from your employer's paperwork. Not cool at all. Please do not contact me again or I will report you to your supervisor.\"\n",
        " 'Good day to You too.Pray for me.Remove the teeth as its painful maintaining other stuff.'\n",
        " \"Oh yeah clearly it's my fault\"] \n",
        "\n",
        "\n",
        "first 5  test examples:  [\"Alex says he's not ok with you not being ok with it\"\n",
        " \"And that's fine, I got enough bud to last most of the night at least\"\n",
        " 'PRIVATE! Your 2003 Account Statement for <fone no> shows 800 un-redeemed S. I. M. points. Call 08715203656 Identifier Code: 42049 Expires 26/10/04'\n",
        " 'Ok u can take me shopping when u get paid =D'\n",
        " \"'Response' is one of d powerful weapon 2 occupy a place in others 'HEART'... So, always give response 2 who cares 4 U'... Gud night..swt dreams..take care\"] \n",
        "\n",
        "\n",
        "first 5  training labels:  [0 0 0 0 0] \n",
        "\n",
        "\n",
        "first 5  test labels:  [0 0 1 0 0]\n"
       ]
      }
     ],
     "prompt_number": 514
    },
    {
     "cell_type": "code",
     "collapsed": false,
     "input": [
      "#create a TfidfVectorizer (this will transform training and test set so that we can train a LogisticRegression model)\n",
      "vectorizer = TfidfVectorizer()\n",
      "X_train = vectorizer.fit_transform(X_train_raw) #X_train is scipy.sparse.csr.csr_matrix\n",
      "X_test = vectorizer.transform(X_test_raw)"
     ],
     "language": "python",
     "metadata": {},
     "outputs": [],
     "prompt_number": 515
    },
    {
     "cell_type": "code",
     "collapsed": false,
     "input": [
      "#make prediction with scikit-learn LogisticRegression class\n",
      "#train the LogicticRegression classifier (binary classification in this case)\n",
      "classifier = LogisticRegression()\n",
      "classifier.fit(X_train, y_train) #fit the model\n",
      "predictions = classifier.predict(X_test) #make prediction on the test set -> predictions is a numpy array\n",
      "\n",
      "#prediction is 1 if the SMS is 'spam', otherwise 'ham'"
     ],
     "language": "python",
     "metadata": {},
     "outputs": [],
     "prompt_number": 516
    },
    {
     "cell_type": "code",
     "collapsed": false,
     "input": [
      "#get the first 10 predictions -> see if the SMS messages are correctly classified as 'ham' or 'spam'..\n",
      "for i, prediction in enumerate(predictions[:20]):\n",
      "    print 'prediction: %s. message: %s' % (prediction, X_test_raw[i])"
     ],
     "language": "python",
     "metadata": {},
     "outputs": [
      {
       "output_type": "stream",
       "stream": "stdout",
       "text": [
        "prediction: 0. message: Alex says he's not ok with you not being ok with it\n",
        "prediction: 0. message: And that's fine, I got enough bud to last most of the night at least\n",
        "prediction: 1. message: PRIVATE! Your 2003 Account Statement for <fone no> shows 800 un-redeemed S. I. M. points. Call 08715203656 Identifier Code: 42049 Expires 26/10/04\n",
        "prediction: 0. message: Ok u can take me shopping when u get paid =D\n",
        "prediction: 0. message: 'Response' is one of d powerful weapon 2 occupy a place in others 'HEART'... So, always give response 2 who cares 4 U'... Gud night..swt dreams..take care\n",
        "prediction: 0. message: Huh so early.. Then \u00fc having dinner outside izzit?\n",
        "prediction: 0. message: Prof: you have passed in all the papers in this sem congrats . . . . Student: Enna kalaachutaarama..!! Prof:???? Gud mrng!\n",
        "prediction: 0. message: Congrats! 1 year special cinema pass for 2 is yours. call 09061209465 now! C Suprman V, Matrix3, StarWars3, etc all 4 FREE! bx420-ip4-5we. 150pm. Dont miss out! \n",
        "prediction: 1. message: IMPORTANT MESSAGE. This is a final contact attempt. You have important messages waiting out our customer claims dept. Expires 13/4/04. Call 08717507382 NOW!\n",
        "prediction: 0. message: Friendship is not a game to play, It is not a word to say, It doesn\\'t start on March and ends on May, It is tomorrow, yesterday, today and e\n",
        "prediction: 1. message: Hard LIVE 121 chat just 60p/min. Choose your girl and connect LIVE. Call 09094646899 now! Cheap Chat UK's biggest live service. VU BCM1896WC1N3XX\n",
        "prediction: 0. message: K, makes sense, btw carlos is being difficult so you guys are gonna smoke while I go pick up the second batch and get gas\n",
        "prediction: 0. message: Sir, I need AXIS BANK account no and bank address.\n",
        "prediction: 0. message: No calls..messages..missed calls\n",
        "prediction: 0. message: Ha ha - had popped down to the loo when you hello-ed me. Hello!\n",
        "prediction: 0. message: Its a big difference.  &lt;#&gt;  versus  &lt;#&gt;  every  &lt;#&gt; hrs\n",
        "prediction: 0. message: And miss vday the parachute and double coins??? U must not know me very well...\n",
        "prediction: 0. message: When/where do I pick you up\n",
        "prediction: 0. message: Wot u up 2 u weirdo?\n",
        "prediction: 0. message: Well at this right I'm gonna have to get up and check today's steam sales/pee so text me when you want me to come get you\n"
       ]
      }
     ],
     "prompt_number": 517
    },
    {
     "cell_type": "code",
     "collapsed": false,
     "input": [
      "scores = cross_val_score(classifier, X_train, y_train, cv=5) #cross validation 5 fold"
     ],
     "language": "python",
     "metadata": {},
     "outputs": [],
     "prompt_number": 518
    },
    {
     "cell_type": "code",
     "collapsed": false,
     "input": [
      "print 'accuracy of the model (mean) is: ',np.mean(scores), scores #error on the training set MSE and errors of  each fold (out of 5fold)"
     ],
     "language": "python",
     "metadata": {},
     "outputs": [
      {
       "output_type": "stream",
       "stream": "stdout",
       "text": [
        "accuracy of the model (mean) is:  0.952392344498 [ 0.94617225  0.95574163  0.95813397  0.95215311  0.94976077]\n"
       ]
      }
     ],
     "prompt_number": 519
    },
    {
     "cell_type": "code",
     "collapsed": false,
     "input": [
      "#  !!!ACCURACY IS NOT A VERY GOOD METRIC ACTUALLY, IT IS NOT VERY INFORMATORY, SO IN MANY CASES ALSO CALCULATE PRECISION AND RECALL SCORES"
     ],
     "language": "python",
     "metadata": {},
     "outputs": [],
     "prompt_number": 520
    },
    {
     "cell_type": "code",
     "collapsed": false,
     "input": [
      "#calculate the metrics precision and recall"
     ],
     "language": "python",
     "metadata": {},
     "outputs": [],
     "prompt_number": 521
    },
    {
     "cell_type": "code",
     "collapsed": false,
     "input": [
      "precisions = cross_val_score(classifier, X_train, y_train, cv=5, scoring='precision')"
     ],
     "language": "python",
     "metadata": {},
     "outputs": [],
     "prompt_number": 522
    },
    {
     "cell_type": "code",
     "collapsed": false,
     "input": [
      "print 'Precision', np.mean(precisions), precisions"
     ],
     "language": "python",
     "metadata": {},
     "outputs": [
      {
       "output_type": "stream",
       "stream": "stdout",
       "text": [
        "Precision 0.989241922121 [ 0.98529412  1.          0.975       1.          0.98591549]\n"
       ]
      }
     ],
     "prompt_number": 523
    },
    {
     "cell_type": "code",
     "collapsed": false,
     "input": [
      "recalls = cross_val_score(classifier, X_train, y_train, cv=5, scoring='recall')"
     ],
     "language": "python",
     "metadata": {},
     "outputs": [],
     "prompt_number": 524
    },
    {
     "cell_type": "code",
     "collapsed": false,
     "input": [
      "print 'Recalls', np.mean(recalls), recalls"
     ],
     "language": "python",
     "metadata": {},
     "outputs": [
      {
       "output_type": "stream",
       "stream": "stdout",
       "text": [
        "Recalls 0.648648648649 [ 0.6036036   0.66666667  0.7027027   0.63963964  0.63063063]\n"
       ]
      }
     ],
     "prompt_number": 525
    },
    {
     "cell_type": "code",
     "collapsed": false,
     "input": [
      "#plot the confusion matrix"
     ],
     "language": "python",
     "metadata": {},
     "outputs": [],
     "prompt_number": 526
    },
    {
     "cell_type": "code",
     "collapsed": false,
     "input": [
      "confusion_matrix = confusion_matrix(y_test, predictions)\n",
      "print 'confusion matrix is: \\n', confusion_matrix\n",
      "\n",
      "\n",
      "plt.matshow(confusion_matrix)\n",
      "plt.title('confusion matrix')\n",
      "plt.colorbar()\n",
      "plt.ylabel('true label')\n",
      "plt.xlabel('predicted label')\n",
      "plt.show()"
     ],
     "language": "python",
     "metadata": {},
     "outputs": [
      {
       "output_type": "stream",
       "stream": "stdout",
       "text": [
        "confusion matrix is: \n",
        "[[1202    0]\n",
        " [  51  141]]\n"
       ]
      },
      {
       "metadata": {},
       "output_type": "display_data",
       "png": "[encoded data removed]",
       "text": [
        "<matplotlib.figure.Figure at 0x14c0b0f0>"
       ]
      }
     ],
     "prompt_number": 527
    },
    {
     "cell_type": "code",
     "collapsed": false,
     "input": [
      "#calculate F1 score: weighted average score"
     ],
     "language": "python",
     "metadata": {},
     "outputs": [],
     "prompt_number": 528
    },
    {
     "cell_type": "code",
     "collapsed": false,
     "input": [
      "f1s = cross_val_score(classifier, X_train, y_train, cv=5, scoring='f1')\n",
      "print 'F1 score: ', np.mean(f1s), f1s"
     ],
     "language": "python",
     "metadata": {},
     "outputs": [
      {
       "output_type": "stream",
       "stream": "stdout",
       "text": [
        "F1 score:  0.782961565621 [ 0.74860335  0.8         0.81675393  0.78021978  0.76923077]\n"
       ]
      }
     ],
     "prompt_number": 532
    },
    {
     "cell_type": "code",
     "collapsed": false,
     "input": [
      "#plot ROC curve "
     ],
     "language": "python",
     "metadata": {},
     "outputs": [],
     "prompt_number": 533
    },
    {
     "cell_type": "code",
     "collapsed": false,
     "input": [
      "predictions = classifier.predict_proba(X_test)\n",
      "false_positive_rate, recall, thresholds = roc_curve(y_test, predictions[:, 1])\n",
      "roc_auc = auc(false_positive_rate, recall)\n",
      "\n",
      "\n",
      "plt.plot(false_positive_rate, recall, 'b', label='AUC = %0.2f' % roc_auc)\n",
      "plt.legend(loc='lower right')\n",
      "plt.plot([0, 1], [0, 1], 'r--')\n",
      "plt.xlim([0.0, 1.0])\n",
      "plt.ylim([0.0, 1.0])\n",
      "plt.ylabel('Recall')\n",
      "plt.xlabel('Fall-out')\n",
      "plt.title('ROC Characteristics')\n",
      "plt.show()"
     ],
     "language": "python",
     "metadata": {},
     "outputs": [
      {
       "metadata": {},
       "output_type": "display_data",
       "png": "[encoded data removed]",
       "text": [
        "<matplotlib.figure.Figure at 0x15080890>"
       ]
      }
     ],
     "prompt_number": 561
    },
    {
     "cell_type": "code",
     "collapsed": false,
     "input": [
      "#dashed red line is the line for random guessing, the classifier performs better then normal guessing"
     ],
     "language": "python",
     "metadata": {},
     "outputs": [],
     "prompt_number": 562
    },
    {
     "cell_type": "heading",
     "level": 4,
     "metadata": {},
     "source": [
      "parameter tuning -> Grid Search ########save the below script into a python file (tuneParameters.py) and then run in the console-> python tuneParameters.py   ########this might take some time depending on your pc because of parallel computing"
     ]
    },
    {
     "cell_type": "code",
     "collapsed": false,
     "input": [
      "#tuning the hyperparameter with Grid Search\n",
      "\n",
      "# coding: utf-8\n",
      "\n",
      "# In[ ]:\n",
      "\n",
      "#this script must run outside of interactive shell\n",
      "#load libraries\n",
      "import pandas as pd  \n",
      "import numpy as np\n",
      "from sklearn.feature_extraction.text import TfidfVectorizer\n",
      "from sklearn.linear_model.logistic import LogisticRegression\n",
      "from sklearn.cross_validation import train_test_split, cross_val_score\n",
      "\n",
      "from sklearn.metrics import confusion_matrix\n",
      "import matplotlib.pyplot as plt\n",
      "\n",
      "from sklearn.metrics import precision_score, recall_score, accuracy_score\n",
      "from sklearn.metrics import roc_curve, auc\n",
      "from sklearn.grid_search import GridSearchCV\n",
      "from sklearn.pipeline import Pipeline\n",
      "\n",
      "\n",
      "pipeline = Pipeline([\n",
      "('vect', TfidfVectorizer(stop_words='english')),\n",
      "('clf', LogisticRegression())\n",
      "])\n",
      "parameters = {\n",
      "'vect__max_df': (0.25, 0.5, 0.75),\n",
      "'vect__stop_words': ('english', None),\n",
      "'vect__max_features': (2500, 5000, 10000, None),\n",
      "'vect__ngram_range': ((1, 1), (1, 2)),\n",
      "'vect__use_idf': (True, False),\n",
      "'vect__norm': ('l1', 'l2'),\n",
      "'clf__penalty': ('l1', 'l2'),\n",
      "'clf__C': (0.01, 0.1, 1, 10),\n",
      "}\n",
      "\n",
      "\n",
      "if __name__ == '__main__':\n",
      "    grid_search = GridSearchCV(pipeline, parameters, n_jobs=-1, verbose=1, scoring='accuracy', cv=3)\n",
      "    df = pd.read_csv('sms.csv')\n",
      "    X, y = df['message'], df['label']\n",
      "    X_train, X_test, y_train, y_test = train_test_split(X, y)\n",
      "    \n",
      "    grid_search.fit(X_train, y_train)\n",
      "    print 'Best score: %0.3f' % grid_search.best_score_\n",
      "    print 'Best parameters set:'\n",
      "    best_parameters = grid_search.best_estimator_.get_params()\n",
      "    for param_name in sorted(parameters.keys()):\n",
      "        print '\\t%s: %r' % (param_name, best_parameters[param_name])\n",
      "    \n",
      "    predictions = grid_search.predict(X_test)\n",
      "    print 'Accuracy:', accuracy_score(y_test, predictions)\n",
      "    print 'Precision:', precision_score(y_test, predictions)\n",
      "    print 'Recall:', recall_score(y_test, predictions)\n",
      "\n"
     ],
     "language": "python",
     "metadata": {},
     "outputs": []
    },
    {
     "cell_type": "code",
     "collapsed": false,
     "input": [
      "#here are the parameters and accuracy, precision and recall rates after the Grid Search\n",
      "#see that recall rate has increased significantly\n",
      "Image(filename='parameters.png')"
     ],
     "language": "python",
     "metadata": {},
     "outputs": [
      {
       "metadata": {},
       "output_type": "pyout",
       "png": "[encoded data removed]",
       "prompt_number": 2,
       "text": [
        "<IPython.core.display.Image at 0x56b24d0>"
       ]
      }
     ],
     "prompt_number": 2
    },
    {
     "cell_type": "code",
     "collapsed": false,
     "input": [],
     "language": "python",
     "metadata": {},
     "outputs": []
    }
   ],
   "metadata": {}
  }
 ]
}
