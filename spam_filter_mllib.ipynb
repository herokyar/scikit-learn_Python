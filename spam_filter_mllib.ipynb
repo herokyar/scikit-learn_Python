{
 "metadata": {
  "name": "",
  "signature": "sha256:e3350ab2757ad74e297345e2cc9ab0b0f486896030cd77aab2cc6c590c57a8fa"
 },
 "nbformat": 3,
 "nbformat_minor": 0,
 "worksheets": [
  {
   "cells": [
    {
     "cell_type": "heading",
     "level": 1,
     "metadata": {},
     "source": [
      "#large-scale parallelized spam filter with Spark MLLib "
     ]
    },
    {
     "cell_type": "heading",
     "level": 3,
     "metadata": {},
     "source": [
      "using tf transformer and Logistic Regression"
     ]
    },
    {
     "cell_type": "code",
     "collapsed": false,
     "input": [
      "from pyspark.mllib.regression import LabeledPoint\n",
      "from pyspark.mllib.feature import HashingTF\n",
      "from pyspark.mllib.classification import LogisticRegressionWithSGD"
     ],
     "language": "python",
     "metadata": {},
     "outputs": [],
     "prompt_number": 1
    },
    {
     "cell_type": "code",
     "collapsed": false,
     "input": [
      "spam = sc.textFile('file:///c:\\users\\hasan\\spam.txt')\n",
      "spam"
     ],
     "language": "python",
     "metadata": {},
     "outputs": [
      {
       "metadata": {},
       "output_type": "pyout",
       "prompt_number": 2,
       "text": [
        "file:///c:\\users\\hasan\\spam.txt MapPartitionsRDD[1] at textFile at NativeMethodAccessorImpl.java:-2"
       ]
      }
     ],
     "prompt_number": 2
    },
    {
     "cell_type": "code",
     "collapsed": false,
     "input": [
      "normal = sc.textFile('file:///c:\\users\\hasan\\ham.txt')\n",
      "normal"
     ],
     "language": "python",
     "metadata": {},
     "outputs": [
      {
       "metadata": {},
       "output_type": "pyout",
       "prompt_number": 3,
       "text": [
        "file:///c:\\users\\hasan\\ham.txt MapPartitionsRDD[3] at textFile at NativeMethodAccessorImpl.java:-2"
       ]
      }
     ],
     "prompt_number": 3
    },
    {
     "cell_type": "code",
     "collapsed": false,
     "input": [
      "# Create a HashingTF instance to map email text to vectors of 10,000 features\n",
      "tf = HashingTF(numFeatures=10000)\n",
      "tf"
     ],
     "language": "python",
     "metadata": {},
     "outputs": [
      {
       "metadata": {},
       "output_type": "pyout",
       "prompt_number": 4,
       "text": [
        "<pyspark.mllib.feature.HashingTF at 0xa884ad0>"
       ]
      }
     ],
     "prompt_number": 4
    },
    {
     "cell_type": "code",
     "collapsed": false,
     "input": [
      "# Each email is split into words, and each word is mapped to one feature\n",
      "spamFeatures = spam.map(lambda email: tf.transform(email.split(' ')))"
     ],
     "language": "python",
     "metadata": {},
     "outputs": [],
     "prompt_number": 5
    },
    {
     "cell_type": "code",
     "collapsed": false,
     "input": [
      "normalFeatures = normal.map(lambda email: tf.transform(email.split(' ')))"
     ],
     "language": "python",
     "metadata": {},
     "outputs": [],
     "prompt_number": 6
    },
    {
     "cell_type": "code",
     "collapsed": false,
     "input": [
      "# Create LabeledPoint datasets for positive (spam) and negative (normal) examples.\n",
      "positiveExamples = spamFeatures.map(lambda features: LabeledPoint(1, features))"
     ],
     "language": "python",
     "metadata": {},
     "outputs": [],
     "prompt_number": 7
    },
    {
     "cell_type": "code",
     "collapsed": false,
     "input": [
      "negativeExamples = normalFeatures.map(lambda features: LabeledPoint(0,features))"
     ],
     "language": "python",
     "metadata": {},
     "outputs": [],
     "prompt_number": 8
    },
    {
     "cell_type": "code",
     "collapsed": false,
     "input": [
      "trainingData = positiveExamples.union(negativeExamples)"
     ],
     "language": "python",
     "metadata": {},
     "outputs": [],
     "prompt_number": 9
    },
    {
     "cell_type": "code",
     "collapsed": false,
     "input": [
      "trainingData.cache() #cache since LogisticRegression is iterative"
     ],
     "language": "python",
     "metadata": {},
     "outputs": [
      {
       "metadata": {},
       "output_type": "pyout",
       "prompt_number": 10,
       "text": [
        "UnionRDD[6] at union at NativeMethodAccessorImpl.java:-2"
       ]
      }
     ],
     "prompt_number": 10
    },
    {
     "cell_type": "code",
     "collapsed": false,
     "input": [
      "# Run Logistic Regression using the SGD algorithm\n",
      "model = LogisticRegressionWithSGD.train(trainingData)"
     ],
     "language": "python",
     "metadata": {},
     "outputs": [],
     "prompt_number": 11
    },
    {
     "cell_type": "code",
     "collapsed": false,
     "input": [
      "# Test on a positive example (spam) and a negative one (normal). We first apply\n",
      "# the same HashingTF feature transformation to get vectors, then apply the model\n",
      "posTest = tf.transform('O M G get cheap stuff by sending money to ...'.split(' '))\n",
      "posTest"
     ],
     "language": "python",
     "metadata": {},
     "outputs": [
      {
       "metadata": {},
       "output_type": "pyout",
       "prompt_number": 12,
       "text": [
        "SparseVector(10000, {497: 1.0, 1601: 1.0, 2615: 1.0, 2742: 1.0, 5052: 1.0, 5297: 1.0, 5822: 1.0, 6940: 1.0, 7273: 1.0, 7325: 1.0, 9443: 1.0})"
       ]
      }
     ],
     "prompt_number": 12
    },
    {
     "cell_type": "code",
     "collapsed": false,
     "input": [
      "negTest = tf.transform('Hi mom, I started studying spark the other ...'.split(' '))"
     ],
     "language": "python",
     "metadata": {},
     "outputs": [],
     "prompt_number": 13
    },
    {
     "cell_type": "code",
     "collapsed": false,
     "input": [
      "print 'prediction for positive test example: %g' % model.predict(posTest)"
     ],
     "language": "python",
     "metadata": {},
     "outputs": [
      {
       "output_type": "stream",
       "stream": "stdout",
       "text": [
        "prediction for positive test example: 1\n"
       ]
      }
     ],
     "prompt_number": 14
    },
    {
     "cell_type": "code",
     "collapsed": false,
     "input": [
      "print 'prediction for negative test examples: %g' % model.predict(negTest)"
     ],
     "language": "python",
     "metadata": {},
     "outputs": [
      {
       "output_type": "stream",
       "stream": "stdout",
       "text": [
        "prediction for negative test examples: 0\n"
       ]
      }
     ],
     "prompt_number": 15
    },
    {
     "cell_type": "code",
     "collapsed": false,
     "input": [
      "#end of the code..."
     ],
     "language": "python",
     "metadata": {},
     "outputs": [],
     "prompt_number": 16
    },
    {
     "cell_type": "code",
     "collapsed": false,
     "input": [],
     "language": "python",
     "metadata": {},
     "outputs": []
    }
   ],
   "metadata": {}
  }
 ]
}
